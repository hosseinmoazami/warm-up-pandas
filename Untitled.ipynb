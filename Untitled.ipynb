{
  "nbformat": 4,
  "nbformat_minor": 0,
  "metadata": {
    "colab": {
      "name": "Untitled",
      "provenance": [],
      "collapsed_sections": []
    },
    "kernelspec": {
      "name": "python3",
      "display_name": "Python 3"
    }
  },
  "cells": [
    {
      "cell_type": "code",
      "metadata": {
        "id": "hX8UDGqMl7EG",
        "colab_type": "code",
        "colab": {}
      },
      "source": [
        "import pandas as pd\n",
        "import matplotlib.pyplot as plt\n"
      ],
      "execution_count": 0,
      "outputs": []
    },
    {
      "cell_type": "code",
      "metadata": {
        "id": "s4drf3idnPjg",
        "colab_type": "code",
        "colab": {
          "base_uri": "https://localhost:8080/",
          "height": 204
        },
        "outputId": "2277ffa6-2831-4764-fd62-7a2e27dd1db6"
      },
      "source": [
        "df = pd.read_csv(\"/content/drive/My Drive/Data.csv\")\n",
        "df = df.dropna()\n",
        "df = df.reset_index(drop=True)\n",
        "df.head()"
      ],
      "execution_count": 30,
      "outputs": [
        {
          "output_type": "execute_result",
          "data": {
            "text/html": [
              "<div>\n",
              "<style scoped>\n",
              "    .dataframe tbody tr th:only-of-type {\n",
              "        vertical-align: middle;\n",
              "    }\n",
              "\n",
              "    .dataframe tbody tr th {\n",
              "        vertical-align: top;\n",
              "    }\n",
              "\n",
              "    .dataframe thead th {\n",
              "        text-align: right;\n",
              "    }\n",
              "</style>\n",
              "<table border=\"1\" class=\"dataframe\">\n",
              "  <thead>\n",
              "    <tr style=\"text-align: right;\">\n",
              "      <th></th>\n",
              "      <th>sl_no</th>\n",
              "      <th>gender</th>\n",
              "      <th>ssc_p</th>\n",
              "      <th>ssc_b</th>\n",
              "      <th>hsc_p</th>\n",
              "      <th>hsc_b</th>\n",
              "      <th>hsc_s</th>\n",
              "      <th>degree_p</th>\n",
              "      <th>degree_t</th>\n",
              "      <th>workex</th>\n",
              "      <th>etest_p</th>\n",
              "      <th>specialisation</th>\n",
              "      <th>mba_p</th>\n",
              "      <th>status</th>\n",
              "      <th>salary</th>\n",
              "    </tr>\n",
              "  </thead>\n",
              "  <tbody>\n",
              "    <tr>\n",
              "      <th>0</th>\n",
              "      <td>1</td>\n",
              "      <td>M</td>\n",
              "      <td>67.00</td>\n",
              "      <td>Others</td>\n",
              "      <td>91.00</td>\n",
              "      <td>Others</td>\n",
              "      <td>Commerce</td>\n",
              "      <td>58.00</td>\n",
              "      <td>Sci&amp;Tech</td>\n",
              "      <td>No</td>\n",
              "      <td>55.0</td>\n",
              "      <td>Mkt&amp;HR</td>\n",
              "      <td>58.80</td>\n",
              "      <td>Placed</td>\n",
              "      <td>270000.0</td>\n",
              "    </tr>\n",
              "    <tr>\n",
              "      <th>1</th>\n",
              "      <td>2</td>\n",
              "      <td>M</td>\n",
              "      <td>79.33</td>\n",
              "      <td>Central</td>\n",
              "      <td>78.33</td>\n",
              "      <td>Others</td>\n",
              "      <td>Science</td>\n",
              "      <td>77.48</td>\n",
              "      <td>Sci&amp;Tech</td>\n",
              "      <td>Yes</td>\n",
              "      <td>86.5</td>\n",
              "      <td>Mkt&amp;Fin</td>\n",
              "      <td>66.28</td>\n",
              "      <td>Placed</td>\n",
              "      <td>200000.0</td>\n",
              "    </tr>\n",
              "    <tr>\n",
              "      <th>2</th>\n",
              "      <td>3</td>\n",
              "      <td>M</td>\n",
              "      <td>65.00</td>\n",
              "      <td>Central</td>\n",
              "      <td>68.00</td>\n",
              "      <td>Central</td>\n",
              "      <td>Arts</td>\n",
              "      <td>64.00</td>\n",
              "      <td>Comm&amp;Mgmt</td>\n",
              "      <td>No</td>\n",
              "      <td>75.0</td>\n",
              "      <td>Mkt&amp;Fin</td>\n",
              "      <td>57.80</td>\n",
              "      <td>Placed</td>\n",
              "      <td>250000.0</td>\n",
              "    </tr>\n",
              "    <tr>\n",
              "      <th>3</th>\n",
              "      <td>5</td>\n",
              "      <td>M</td>\n",
              "      <td>85.80</td>\n",
              "      <td>Central</td>\n",
              "      <td>73.60</td>\n",
              "      <td>Central</td>\n",
              "      <td>Commerce</td>\n",
              "      <td>73.30</td>\n",
              "      <td>Comm&amp;Mgmt</td>\n",
              "      <td>No</td>\n",
              "      <td>96.8</td>\n",
              "      <td>Mkt&amp;Fin</td>\n",
              "      <td>55.50</td>\n",
              "      <td>Placed</td>\n",
              "      <td>425000.0</td>\n",
              "    </tr>\n",
              "    <tr>\n",
              "      <th>4</th>\n",
              "      <td>8</td>\n",
              "      <td>M</td>\n",
              "      <td>82.00</td>\n",
              "      <td>Central</td>\n",
              "      <td>64.00</td>\n",
              "      <td>Central</td>\n",
              "      <td>Science</td>\n",
              "      <td>66.00</td>\n",
              "      <td>Sci&amp;Tech</td>\n",
              "      <td>Yes</td>\n",
              "      <td>67.0</td>\n",
              "      <td>Mkt&amp;Fin</td>\n",
              "      <td>62.14</td>\n",
              "      <td>Placed</td>\n",
              "      <td>252000.0</td>\n",
              "    </tr>\n",
              "  </tbody>\n",
              "</table>\n",
              "</div>"
            ],
            "text/plain": [
              "   sl_no gender  ssc_p    ssc_b  ...  specialisation  mba_p  status    salary\n",
              "0      1      M  67.00   Others  ...          Mkt&HR  58.80  Placed  270000.0\n",
              "1      2      M  79.33  Central  ...         Mkt&Fin  66.28  Placed  200000.0\n",
              "2      3      M  65.00  Central  ...         Mkt&Fin  57.80  Placed  250000.0\n",
              "3      5      M  85.80  Central  ...         Mkt&Fin  55.50  Placed  425000.0\n",
              "4      8      M  82.00  Central  ...         Mkt&Fin  62.14  Placed  252000.0\n",
              "\n",
              "[5 rows x 15 columns]"
            ]
          },
          "metadata": {
            "tags": []
          },
          "execution_count": 30
        }
      ]
    },
    {
      "cell_type": "markdown",
      "metadata": {
        "id": "GeMexEwCIWQg",
        "colab_type": "text"
      },
      "source": [
        "***Comparison of GPA by salary***"
      ]
    },
    {
      "cell_type": "code",
      "metadata": {
        "id": "9ZphLk1D-WG3",
        "colab_type": "code",
        "colab": {}
      },
      "source": [
        "def gpa_salary(data):\n",
        "  gpa_salary = data.loc[:, ['degree_p', 'salary']]\n",
        "  gpa_salary.plot.scatter(x='degree_p', y='salary', alpha=0.3)\n",
        "  plt.show()"
      ],
      "execution_count": 0,
      "outputs": []
    },
    {
      "cell_type": "markdown",
      "metadata": {
        "id": "P26Toc5uIekz",
        "colab_type": "text"
      },
      "source": [
        "***Comparison of GPA and Salary by Increase***"
      ]
    },
    {
      "cell_type": "code",
      "metadata": {
        "id": "ScI8RavRId6O",
        "colab_type": "code",
        "colab": {}
      },
      "source": [
        "def gpa_salary_inc(data):\n",
        "  row_data = data.loc[:, ['degree_p', 'salary']]\n",
        "  select = row_data['salary'] > 360000\n",
        "  gpa_salary = row_data[select]\n",
        "  gpa_salary.plot.bar(x='degree_p', y='salary', alpha=0.3)\n",
        "  plt.show()\n"
      ],
      "execution_count": 0,
      "outputs": []
    },
    {
      "cell_type": "markdown",
      "metadata": {
        "id": "ctnAW_rq-YPQ",
        "colab_type": "text"
      },
      "source": [
        "***Comparison of gender by salary***\n",
        "\n",
        "---"
      ]
    },
    {
      "cell_type": "code",
      "metadata": {
        "id": "oYgJXjT69q72",
        "colab_type": "code",
        "colab": {}
      },
      "source": [
        "def gen_sal_proportion(data):\n",
        "  data.plot.scatter(x='gender', y='salary', alpha=0.3)\n",
        "  plt.show()"
      ],
      "execution_count": 0,
      "outputs": []
    },
    {
      "cell_type": "code",
      "metadata": {
        "id": "7k5yJ_AN8NTs",
        "colab_type": "code",
        "colab": {}
      },
      "source": [
        "def gender_ratio(data):\n",
        "  # Find quantities\n",
        "  female_count = data['gender'].value_counts()[\"F\"]\n",
        "  male_count = data['gender'].value_counts()[\"M\"]\n",
        "\n",
        "  labels = 'Female', 'Male'\n",
        "  sizes = [female_count, male_count]\n",
        "  explode = (0, 0.1)\n",
        "\n",
        "  fig1, ax1 = plt.subplots()\n",
        "  ax1.pie(sizes, explode=explode, labels=labels, autopct='%1.1f%%',\n",
        "          shadow=True, startangle=90)\n",
        "  ax1.axis('equal')\n",
        "\n",
        "  plt.show()  "
      ],
      "execution_count": 0,
      "outputs": []
    },
    {
      "cell_type": "code",
      "metadata": {
        "id": "fLX9jSGw80lT",
        "colab_type": "code",
        "colab": {}
      },
      "source": [
        "def gender_salary(dataFrame):\n",
        "  row_data = dataFrame.loc[:, ['gender', 'salary']]\n",
        "  select = (row_data['salary'] > 240000) & (row_data['salary'] < 360000)\n",
        "  gender_salary = row_data[select]\n",
        "  gender_ratio(gender_salary)\n",
        "  gen_sal_proportion(gender_salary)"
      ],
      "execution_count": 0,
      "outputs": []
    },
    {
      "cell_type": "markdown",
      "metadata": {
        "id": "U5nf1C9vRgym",
        "colab_type": "text"
      },
      "source": [
        "***Results of Work Experience***"
      ]
    },
    {
      "cell_type": "code",
      "metadata": {
        "id": "Cfuypl2MRXfH",
        "colab_type": "code",
        "colab": {
          "base_uri": "https://localhost:8080/",
          "height": 248
        },
        "outputId": "98ed206a-7008-4efe-a5a6-0f8b996eaac9"
      },
      "source": [
        "row_data = df.loc[:, ['workex']]\n",
        "\n",
        "have_workex = row_data['workex'].value_counts()['Yes']\n",
        "not_have_workex = row_data['workex'].value_counts()['No']\n",
        "labels = 'Have Work Experience', 'Don\\'t Work Experience'\n",
        "sizes = [have_workex, not_have_workex]\n",
        "explode = (0, 0.1)\n",
        "fig1, ax1 = plt.subplots()\n",
        "ax1.pie(sizes, explode=explode, labels=labels, autopct='%1.1f%%',\n",
        "shadow=True, startangle=90)\n",
        "ax1.axis('equal')\n",
        "plt.show()"
      ],
      "execution_count": 201,
      "outputs": [
        {
          "output_type": "display_data",
          "data": {
            "image/png": "[encoded data removed]",
            "text/plain": [
              "<Figure size 432x288 with 1 Axes>"
            ]
          },
          "metadata": {
            "tags": []
          }
        }
      ]
    },
    {
      "cell_type": "markdown",
      "metadata": {
        "id": "RlghKJmbOEvg",
        "colab_type": "text"
      },
      "source": [
        "***Final Result Call Each Function***"
      ]
    },
    {
      "cell_type": "code",
      "metadata": {
        "id": "kzZQJHBN-Qqe",
        "colab_type": "code",
        "colab": {
          "base_uri": "https://localhost:8080/",
          "height": 1000
        },
        "outputId": "f9170e36-bb63-4daa-fbcd-3b1655541725"
      },
      "source": [
        "gpa_salary(df)\n",
        "gpa_salary_inc(df)\n",
        "gender_salary(df)"
      ],
      "execution_count": 202,
      "outputs": [
        {
          "output_type": "display_data",
          "data": {
            "image/png": "[encoded data removed]",
            "text/plain": [
              "<Figure size 432x288 with 1 Axes>"
            ]
          },
          "metadata": {
            "tags": [],
            "needs_background": "light"
          }
        },
        {
          "output_type": "display_data",
          "data": {
            "image/png": "[encoded data removed]",
            "text/plain": [
              "<Figure size 432x288 with 1 Axes>"
            ]
          },
          "metadata": {
            "tags": [],
            "needs_background": "light"
          }
        },
        {
          "output_type": "display_data",
          "data": {
            "image/png": "[encoded data removed]",
            "text/plain": [
              "<Figure size 432x288 with 1 Axes>"
            ]
          },
          "metadata": {
            "tags": []
          }
        },
        {
          "output_type": "display_data",
          "data": {
            "image/png": "[encoded data removed]",
            "text/plain": [
              "<Figure size 432x288 with 1 Axes>"
            ]
          },
          "metadata": {
            "tags": [],
            "needs_background": "light"
          }
        }
      ]
    }
  ]
}